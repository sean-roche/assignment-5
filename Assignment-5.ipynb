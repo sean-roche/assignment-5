{
 "cells": [
  {
   "cell_type": "markdown",
   "metadata": {},
   "source": [
    "#  Assignment 5\n",
    "\n",
    "This assignment covers material on matrices, norms, condition numbers and eigensystems.\n",
    "\n",
    "The breakdown of the marks is as follows:\n",
    "\n",
    "Question 0 - [1 mark]  \n",
    "Question 1 - [7 marks]  \n",
    "Questino 2 - [6 marks]  \n",
    "Question 3 - [7 marks]  \n",
    "Question 4 - [9 marks]  "
   ]
  },
  {
   "cell_type": "markdown",
   "metadata": {},
   "source": [
    "# Question 0\n",
    "\n",
    "You should have saved this notebook to your ACM20030-Assignments folder. Now:\n",
    "- commit the notebook to your local repository\n",
    "- push the changes to the GitHub"
   ]
  },
  {
   "cell_type": "code",
   "execution_count": 53,
   "metadata": {},
   "outputs": [],
   "source": [
    "import numpy as np\n",
    "from numpy import linalg as la\n",
    "np.set_printoptions(linewidth=200)  # This stops line wrapping of larger matrices"
   ]
  },
  {
   "cell_type": "markdown",
   "metadata": {},
   "source": [
    "# Question 1 - practice manipulating arrays\n",
    "\n",
    "This questions asks you write a few functions for manipulating arrays of data"
   ]
  },
  {
   "cell_type": "markdown",
   "metadata": {},
   "source": [
    "## Q1 a\n",
    "\n",
    "Write a function that checks if a given $n\\times n$ matrix is symmetric. Use only loops and `.shape` function from numpy (do not use any other special numpy functions)."
   ]
  },
  {
   "cell_type": "code",
   "execution_count": 54,
   "metadata": {},
   "outputs": [
    {
     "data": {
      "text/plain": [
       "'matrix is symmetric'"
      ]
     },
     "execution_count": 54,
     "metadata": {},
     "output_type": "execute_result"
    }
   ],
   "source": [
    "def checksym(x):\n",
    "    #first find the shape of the matrix and define i and j\n",
    "    n = x.shape[0] - 1\n",
    "    i = 0\n",
    "    j = 0\n",
    "    #next compare each element [i,j] with its transpose [j,i]\n",
    "    while i <= n:\n",
    "        if x[i,j] != x[j,i]:\n",
    "            return \"matrix is not symmetric\"\n",
    "        #any time [i,j] != [j,i] we know the matrix is not symmetric\n",
    "        else:\n",
    "            #check that this is the case for all values of i and j\n",
    "            while j <= n:\n",
    "                j += 1\n",
    "            if j > n:\n",
    "                j = 0\n",
    "                i += 1\n",
    "            if i > n:\n",
    "                return \"matrix is symmetric\"\n",
    "            #at this point all values have been checked and since [i,j] == [j,i] for all we can say that the matrix is symmetric\n",
    "            \n",
    "    \n",
    "\n",
    "A = np.array([[1,0,0], [0,1,0], [0,0,1]])\n",
    "checksym(A)"
   ]
  },
  {
   "cell_type": "markdown",
   "metadata": {},
   "source": [
    "Test your function on the two matrices below"
   ]
  },
  {
   "cell_type": "code",
   "execution_count": 55,
   "metadata": {},
   "outputs": [],
   "source": [
    "A = np.random.rand(5,5)\n",
    "SymMatrix = (A + A.T)/2"
   ]
  },
  {
   "cell_type": "code",
   "execution_count": 56,
   "metadata": {},
   "outputs": [
    {
     "data": {
      "text/plain": [
       "array([[0.57629687, 0.34573789, 0.6415468 , 0.08371718, 0.91262476],\n",
       "       [0.31055971, 0.64757014, 0.5281847 , 0.2218241 , 0.2623515 ],\n",
       "       [0.50680944, 0.6594472 , 0.65576348, 0.3232597 , 0.02824675],\n",
       "       [0.87557191, 0.62390114, 0.49022851, 0.51728773, 0.99095348],\n",
       "       [0.01453482, 0.14265996, 0.76680429, 0.93704333, 0.65178539]])"
      ]
     },
     "execution_count": 56,
     "metadata": {},
     "output_type": "execute_result"
    }
   ],
   "source": [
    "#first lets observe whether A is symmetrical\n",
    "A"
   ]
  },
  {
   "cell_type": "code",
   "execution_count": 57,
   "metadata": {},
   "outputs": [
    {
     "data": {
      "text/plain": [
       "'matrix is not symmetric'"
      ]
     },
     "execution_count": 57,
     "metadata": {},
     "output_type": "execute_result"
    }
   ],
   "source": [
    "#A is clearly not symmetrical \n",
    "#lets see if the function agrees\n",
    "checksym(A)"
   ]
  },
  {
   "cell_type": "code",
   "execution_count": 58,
   "metadata": {},
   "outputs": [
    {
     "data": {
      "text/plain": [
       "array([[0.57629687, 0.3281488 , 0.57417812, 0.47964455, 0.46357979],\n",
       "       [0.3281488 , 0.64757014, 0.59381595, 0.42286262, 0.20250573],\n",
       "       [0.57417812, 0.59381595, 0.65576348, 0.4067441 , 0.39752552],\n",
       "       [0.47964455, 0.42286262, 0.4067441 , 0.51728773, 0.9639984 ],\n",
       "       [0.46357979, 0.20250573, 0.39752552, 0.9639984 , 0.65178539]])"
      ]
     },
     "execution_count": 58,
     "metadata": {},
     "output_type": "execute_result"
    }
   ],
   "source": [
    "#lets check if SymMatrix is symmetrical\n",
    "SymMatrix"
   ]
  },
  {
   "cell_type": "code",
   "execution_count": 59,
   "metadata": {},
   "outputs": [
    {
     "data": {
      "text/plain": [
       "'matrix is symmetric'"
      ]
     },
     "execution_count": 59,
     "metadata": {},
     "output_type": "execute_result"
    }
   ],
   "source": [
    "#its clearly symmetrical\n",
    "#lets check if the function agrees\n",
    "checksym(SymMatrix)"
   ]
  },
  {
   "cell_type": "markdown",
   "metadata": {},
   "source": [
    "## Q1 b\n",
    "\n",
    "Write a function to transpose a general $n\\times n$ matrix. Do this by writing loops and not using any special functions like `np.transpose()`, `A.T`, or any functions from any other library (`np.zeroes`, `np.ones`, `np.shape`, etc are all ok to use)."
   ]
  },
  {
   "cell_type": "code",
   "execution_count": 60,
   "metadata": {},
   "outputs": [],
   "source": [
    "def transpose(x):\n",
    "    #first find the shape of the matrix and define i and j\n",
    "    n = x.shape[0] - 1\n",
    "    i = 0\n",
    "    j = 0\n",
    "    #create a matrix of 0's in the same shape as x\n",
    "    x0 = np.zeros(x.shape)\n",
    "    #add the transpose of x to the matrix of 0's\n",
    "    while i <= n:\n",
    "        x0[i,j] = x0[i,j] + x[j,i]\n",
    "        j += 1\n",
    "        if j > n:\n",
    "            j = 0\n",
    "            i += 1\n",
    "    else:\n",
    "        return x0\n",
    "    #return the new transposed matrix   "
   ]
  },
  {
   "cell_type": "markdown",
   "metadata": {},
   "source": [
    "Check your code by transposing a matrix by checking that $A^T \\neq A$ and $(A^T)^T - A = 0$"
   ]
  },
  {
   "cell_type": "code",
   "execution_count": 61,
   "metadata": {
    "scrolled": false
   },
   "outputs": [
    {
     "name": "stdout",
     "output_type": "stream",
     "text": [
      "[[0.78574673 0.99401678 0.30829567 0.55885045 0.80875786 0.29982829]\n",
      " [0.47602668 0.59752013 0.06720847 0.51222826 0.0772405  0.77560735]\n",
      " [0.52340817 0.28518611 0.51073991 0.06812319 0.79064064 0.31152156]\n",
      " [0.55975889 0.95665666 0.77327075 0.898829   0.0571723  0.81368225]\n",
      " [0.69890876 0.34972783 0.64387023 0.73915659 0.5023205  0.74963162]\n",
      " [0.01672392 0.42652169 0.78837876 0.89539607 0.77240074 0.15405499]]\n",
      "[[0.78574673 0.47602668 0.52340817 0.55975889 0.69890876 0.01672392]\n",
      " [0.99401678 0.59752013 0.28518611 0.95665666 0.34972783 0.42652169]\n",
      " [0.30829567 0.06720847 0.51073991 0.77327075 0.64387023 0.78837876]\n",
      " [0.55885045 0.51222826 0.06812319 0.898829   0.73915659 0.89539607]\n",
      " [0.80875786 0.0772405  0.79064064 0.0571723  0.5023205  0.77240074]\n",
      " [0.29982829 0.77560735 0.31152156 0.81368225 0.74963162 0.15405499]]\n"
     ]
    }
   ],
   "source": [
    "A = np.random.rand(6,6);\n",
    "print(A)\n",
    "print(transpose(A))\n",
    "#its clear transpose(A) != A"
   ]
  },
  {
   "cell_type": "code",
   "execution_count": 62,
   "metadata": {},
   "outputs": [
    {
     "data": {
      "text/plain": [
       "array([[ True,  True,  True,  True,  True,  True],\n",
       "       [ True,  True,  True,  True,  True,  True],\n",
       "       [ True,  True,  True,  True,  True,  True],\n",
       "       [ True,  True,  True,  True,  True,  True],\n",
       "       [ True,  True,  True,  True,  True,  True],\n",
       "       [ True,  True,  True,  True,  True,  True]])"
      ]
     },
     "execution_count": 62,
     "metadata": {},
     "output_type": "execute_result"
    }
   ],
   "source": [
    "#next check that transpose(transpose(A)) - A == 0\n",
    "transpose(transpose(A)) - A == 0"
   ]
  },
  {
   "cell_type": "markdown",
   "metadata": {},
   "source": [
    "## Q1c\n",
    "\n",
    "Write a function that finds the maximum entry in a matrix (where the matrix does not need to be square). Do this by writing loops and not using any special functions like `np.max` or any functions from any other library."
   ]
  },
  {
   "cell_type": "code",
   "execution_count": 63,
   "metadata": {},
   "outputs": [],
   "source": [
    "def max(x):\n",
    "    #find shape and define i and j\n",
    "    m = x.shape[0] - 1\n",
    "    n = x.shape[1] - 1\n",
    "    i = 0\n",
    "    j = 0\n",
    "    a = x[0,0]\n",
    "    while i <= m:\n",
    "        #going through every x[i,j] when we find a value greater than our previous max value that becomes the new max value\n",
    "        if x[i,j] > a:\n",
    "            a = x[i,j]\n",
    "        j += 1\n",
    "        if j > n:\n",
    "            j = 0\n",
    "            i += 1\n",
    "       \n",
    "    #when weve gone through every element of the matrix print a, our current and final max value. \n",
    "    else:\n",
    "        return a"
   ]
  },
  {
   "cell_type": "markdown",
   "metadata": {},
   "source": [
    "Check your result by comparing to `np.max(A)` for the below random matrix"
   ]
  },
  {
   "cell_type": "code",
   "execution_count": 64,
   "metadata": {},
   "outputs": [
    {
     "name": "stdout",
     "output_type": "stream",
     "text": [
      "0.988972350471296\n",
      "0.988972350471296\n"
     ]
    }
   ],
   "source": [
    "A = np.random.rand(4,5)\n",
    "\n",
    "print(np.max(A))\n",
    "print(max(A))"
   ]
  },
  {
   "cell_type": "markdown",
   "metadata": {},
   "source": [
    "Commit your notebook to git and push it to GitHub.\n",
    "\n",
    "# Question 2:  matrix norms\n",
    "\n",
    "In the lectures we focused on the $L^2$-norm. We also briefly mentioned the $L^1$ and $L^\\infty$ norm. Let's look at calculating those as well for a general $m\\times n$ matrix."
   ]
  },
  {
   "cell_type": "markdown",
   "metadata": {},
   "source": [
    "# Q2a\n",
    "\n",
    "The $L^1$ norm is given by\n",
    "\n",
    "$$ \\lVert A \\rVert_1 = \\max_j \\sum^m_{i=1} |a_{ij}| $$\n",
    "\n",
    "i.e., it is the max of the sums of the absolute values of each column. Write a function that computes the $L^1$-norm using only loops. The function should use no special numpy functions except `np.abs()` (`np.shape`, `np.inf`, etc are ok to use)."
   ]
  },
  {
   "cell_type": "code",
   "execution_count": 65,
   "metadata": {},
   "outputs": [
    {
     "data": {
      "text/plain": [
       "18.0"
      ]
     },
     "execution_count": 65,
     "metadata": {},
     "output_type": "execute_result"
    }
   ],
   "source": [
    "def L1(x):\n",
    "    #find the shape and define i and j\n",
    "    m = x.shape[0] - 1\n",
    "    n = x.shape[1] - 1\n",
    "    i = 0 \n",
    "    j = 0\n",
    "    a = 0\n",
    "    #create a 1xn matrix of zeros that we can make our matrix of the sums of the j columns\n",
    "    b = np.zeros((1,n + 1))\n",
    "    #c will be the max value of our matrix b\n",
    "    c = b[0,0]\n",
    "    while j <= n:\n",
    "        #we will add all the absolute values of each column to b\n",
    "        b[0,a] += np.abs(x[i,j])\n",
    "        i += 1\n",
    "        #in the case where an element of b is greater than the previous max this element is the new max\n",
    "        if i > m:\n",
    "            i = 0\n",
    "            j += 1\n",
    "            if b[0,a] > c:\n",
    "                c = b[0,a]\n",
    "            a += 1\n",
    "       \n",
    "        \n",
    "    #now that the sum of all elements has been calculated we print c\n",
    "    else:\n",
    "        return c\n",
    "\n",
    "A = np.array([[1,2,3],[4,5,6],[7,8,9]])\n",
    "L1(A)"
   ]
  },
  {
   "cell_type": "markdown",
   "metadata": {},
   "source": [
    "Check your result against NumPy's `la.norm(A,1)` function for the following random matrix"
   ]
  },
  {
   "cell_type": "code",
   "execution_count": 66,
   "metadata": {},
   "outputs": [
    {
     "name": "stdout",
     "output_type": "stream",
     "text": [
      "1.9028067094376964\n",
      "1.9028067094376964\n"
     ]
    }
   ],
   "source": [
    "A = np.random.rand(3,4)\n",
    "print(la.norm(A, 1))\n",
    "print(L1(A))"
   ]
  },
  {
   "cell_type": "markdown",
   "metadata": {},
   "source": [
    "## Q2b\n",
    "\n",
    "The $L^\\infty$ norm is given by \n",
    "\n",
    "$$\\lVert A \\rVert_\\infty = \\max_i \\sum_{j=1}^n |a_{ij}|$$\n",
    "\n",
    "i.e., it is the max of the sums of the absolute values of each row. Write a function that computes the $L^\\infty$-norm using only loops and no special numpy functions."
   ]
  },
  {
   "cell_type": "code",
   "execution_count": 67,
   "metadata": {},
   "outputs": [],
   "source": [
    "def Linf(x):\n",
    "    #find the shape and define i and j\n",
    "    m = x.shape[0] - 1\n",
    "    n = x.shape[1] - 1\n",
    "    i = 0 \n",
    "    j = 0\n",
    "    a = 0\n",
    "    #create a 1xn matrix of zeros that we can make our matrix of the sums of the i rows\n",
    "    b = np.zeros((1,n + 1))\n",
    "    #c will be the max value of our matrix b\n",
    "    c = b[0,0]\n",
    "    while i <= m:\n",
    "        #we will add all the absolute values of each row to b\n",
    "        b[0,a] += np.abs(x[i,j])\n",
    "        j += 1\n",
    "        #in the case where an element of b is greater than the previous max this element is the new max\n",
    "        if j > n:\n",
    "            j = 0\n",
    "            i += 1\n",
    "            if b[0,a] > c:\n",
    "                c = b[0,a]\n",
    "            a += 1\n",
    "       \n",
    "        \n",
    "    #now that the sum of all elements has been calculated we print c\n",
    "    else:\n",
    "        return c\n"
   ]
  },
  {
   "cell_type": "markdown",
   "metadata": {},
   "source": [
    "Check your result against NumPy's `la.norm(A,np.inf)` function for the following random matrix"
   ]
  },
  {
   "cell_type": "code",
   "execution_count": 68,
   "metadata": {},
   "outputs": [
    {
     "name": "stdout",
     "output_type": "stream",
     "text": [
      "2.7475296931679765\n",
      "2.7475296931679765\n"
     ]
    }
   ],
   "source": [
    "A = np.random.rand(3,4)\n",
    "print(la.norm(A,np.inf))\n",
    "print(Linf(A))\n"
   ]
  },
  {
   "cell_type": "markdown",
   "metadata": {},
   "source": [
    "Commit your notebook to git and push it to GitHub.\n",
    "\n",
    "# Question 3: ill-conditions systems of equations\n",
    "\n",
    "In this question you can use any of NumPy's functions.\n",
    "\n",
    "## Q3a\n",
    "\n",
    "Which of the following three matrices, $A1, A2, A3$, are ill-conditioned. State the reason for your conclusion."
   ]
  },
  {
   "cell_type": "code",
   "execution_count": 69,
   "metadata": {},
   "outputs": [],
   "source": [
    "A1 = np.array([[ 2.852416473483e-01,  3.803483118694e-01,  2.697704226632e-01,  6.810611849029e-01],\n",
    "       [ 6.622827828376e-01,  6.447943415836e-01,  4.387842058829e-01,  1.530575702376e+00],\n",
    "       [ 3.672130860703e-01,  8.309522079704e-01,  9.975487474007e-01,  5.678296337101e-01],\n",
    "       [ 4.036490000599e-01,  6.865978225967e-06,  8.788095913773e-01, -7.150472427928e-02]])\n",
    "\n",
    "A2 = np.array([[0.988746460106, 0.351486109477, 0.024911477532, 0.384039749683],\n",
    "       [0.282104657306, 0.239884151775, 0.36170151991 , 0.903082266861],\n",
    "       [0.59333290915 , 0.637178863968, 0.241229214635, 0.685595037901],\n",
    "       [0.013591747828, 0.917926970364, 0.458689093885, 0.157821121254]])\n",
    "\n",
    "A3 = np.array([[0.131923621844, 0.245316154195, 0.732362341613, 0.957047891764],\n",
    "       [0.91290446184 , 0.512312007959, 0.391938831444, 0.092509684772],\n",
    "       [0.648708523652, 0.608576675797, 0.576773587276, 0.065385122929],\n",
    "       [0.502955480393, 0.084082960221, 0.659487390444, 0.662958739412]])"
   ]
  },
  {
   "cell_type": "code",
   "execution_count": 70,
   "metadata": {},
   "outputs": [
    {
     "name": "stdout",
     "output_type": "stream",
     "text": [
      "the condition number of A1 is 13334936994.070848\n",
      "the condition number of A2 is 21.552466488381846\n",
      "the condition number of A3 is 15.12244969941062\n"
     ]
    }
   ],
   "source": [
    "print(\"the condition number of A1 is\", la.cond(A1))\n",
    "print(\"the condition number of A2 is\", la.cond(A2))\n",
    "print(\"the condition number of A3 is\", la.cond(A3))"
   ]
  },
  {
   "cell_type": "markdown",
   "metadata": {},
   "source": [
    "#### therefore we see the condition number of each matrix is greater than 1 so all 3 matrices are ill-conditioned"
   ]
  },
  {
   "cell_type": "markdown",
   "metadata": {},
   "source": [
    "# Q3b\n",
    "\n",
    "With $b = [1,2,3,4]$ and $\\delta b = [0.1,0,0,0]$ for $A1$ and $A2$ calculate the percentage change in $x$ due to a small change in $b$, i.e., calculate \n",
    "\n",
    "$$100\\times\\frac{\\lVert \\delta x_i\\rVert_2}{\\lVert x_i \\rVert_2}\\quad\\text{and}\\quad 100\\times\\frac{\\lVert \\delta b\\rVert_2}{\\lVert b \\rVert_2}$$\n",
    "\n",
    "where $(x_i+\\delta x_i)  = A_i^{-1}(b+\\delta b)$ and $i\\in\\{1,2\\}$."
   ]
  },
  {
   "cell_type": "code",
   "execution_count": 71,
   "metadata": {},
   "outputs": [
    {
     "name": "stdout",
     "output_type": "stream",
     "text": [
      "512.6206098890646 1.8257418583505536\n",
      "10.48358222033912 1.8257418583505536\n"
     ]
    }
   ],
   "source": [
    "b1 = np.array([1,2,3,4])\n",
    "delta_b = np.array([0.1,0,0,0])\n",
    "b2 = b1 + delta_b\n",
    "x1 = la.inv(A1)@b1\n",
    "x2 = la.inv(A2)@b1\n",
    "delta_x1 = la.inv(A1)@b2 - x1\n",
    "delta_x2 = la.inv(A2)@b2 - x2\n",
    "\n",
    "solA1_x = 100*(la.norm(delta_x1,2)/la.norm(x1,2))\n",
    "solA2_x = 100*(la.norm(delta_x2,2)/la.norm(x2,2))\n",
    "\n",
    "sol_b = 100*(la.norm(delta_b,2)/la.norm(b1,2))\n",
    "\n",
    "print(solA1_x,sol_b)\n",
    "print(solA2_x,sol_b)"
   ]
  },
  {
   "cell_type": "markdown",
   "metadata": {},
   "source": [
    "Which system of equations is more sensitive to small changes in $b$? How could you have guessed this from the answer to the Q3a?"
   ]
  },
  {
   "cell_type": "code",
   "execution_count": 72,
   "metadata": {},
   "outputs": [],
   "source": [
    "# Answer here\n",
    "# A1 is more sensitive to small change in b. This was obvious from 3a as its condition number was by far the largest.\n"
   ]
  },
  {
   "cell_type": "markdown",
   "metadata": {},
   "source": [
    "Commit your notebook to git and push it to GitHub.\n",
    "\n",
    "# Question 4: eigensystems\n",
    "\n",
    "In this question we look at finding eigenvalues and eigenvectors\n",
    "\n",
    "## Q4a\n",
    "\n",
    "You may use any of NumPy's functions for this sub-question.\n",
    "\n",
    "Find the eigenvalues and eigenvectors for the below matrix. Print out the eigenvalues sorted by descending value and explicitly show that eigenvalues/eigenvector pairs satisfy $Ax = \\lambda x$."
   ]
  },
  {
   "cell_type": "code",
   "execution_count": 73,
   "metadata": {},
   "outputs": [],
   "source": [
    "A = np.array([[1,4,5],[4,5,4],[6,7,9]])"
   ]
  },
  {
   "cell_type": "code",
   "execution_count": 74,
   "metadata": {},
   "outputs": [
    {
     "data": {
      "text/plain": [
       "array([15.78569318, -2.05164645,  1.26595327])"
      ]
     },
     "execution_count": 74,
     "metadata": {},
     "output_type": "execute_result"
    }
   ],
   "source": [
    "#first we print the eigenvalues\n",
    "evals = la.eig(A)[0]\n",
    "evals"
   ]
  },
  {
   "cell_type": "code",
   "execution_count": 75,
   "metadata": {},
   "outputs": [
    {
     "data": {
      "text/plain": [
       "array([[-0.39252008, -0.89589878,  0.09818766],\n",
       "       [-0.44424151,  0.36255198, -0.77454142],\n",
       "       [-0.80534308,  0.25675168,  0.6248558 ]])"
      ]
     },
     "execution_count": 75,
     "metadata": {},
     "output_type": "execute_result"
    }
   ],
   "source": [
    "#next the corresponding eigenvectors\n",
    "evecs = la.eig(A)[1]\n",
    "evecs"
   ]
  },
  {
   "cell_type": "code",
   "execution_count": 76,
   "metadata": {},
   "outputs": [
    {
     "name": "stdout",
     "output_type": "stream",
     "text": [
      "Ax = [ -6.1962015   -7.01266016 -12.71289871]\n",
      "lamx = [ -6.1962015   -7.01266016 -12.71289871]\n"
     ]
    }
   ],
   "source": [
    "#well check that Ax = lamx for all eigenvalues\n",
    "#no. 1\n",
    "lam = evals[0]\n",
    "x = evecs[:,0]\n",
    "print(\"Ax =\", np.dot(A, x)) \n",
    "print(\"lamx =\", lam*x) "
   ]
  },
  {
   "cell_type": "code",
   "execution_count": 77,
   "metadata": {},
   "outputs": [
    {
     "name": "stdout",
     "output_type": "stream",
     "text": [
      "Ax = [ 1.83806756 -0.74382849 -0.52676368]\n",
      "lamx = [ 1.83806756 -0.74382849 -0.52676368]\n"
     ]
    }
   ],
   "source": [
    "#no. 2\n",
    "lam = evals[1]\n",
    "x = evecs[:,1]\n",
    "print(\"Ax =\", np.dot(A, x)) \n",
    "print(\"lamx =\", lam*x) "
   ]
  },
  {
   "cell_type": "code",
   "execution_count": 78,
   "metadata": {},
   "outputs": [
    {
     "name": "stdout",
     "output_type": "stream",
     "text": [
      "Ax = [ 0.12430099 -0.98053324  0.79103825]\n",
      "lamx = [ 0.12430099 -0.98053324  0.79103825]\n"
     ]
    }
   ],
   "source": [
    "#no. 3\n",
    "lam = evals[2]\n",
    "x = evecs[:,2]\n",
    "print(\"Ax =\", np.dot(A, x)) \n",
    "print(\"lamx =\", lam*x) "
   ]
  },
  {
   "cell_type": "markdown",
   "metadata": {},
   "source": [
    "# Q4b\n",
    "\n",
    "Without using NumPy's `la.eig()` (or similar functions), find the 4 eigenvalues and eigenvectors of the following matrix. Hint: Use the power method for the max eigenvalue (given below in `MaxEigenvalue`), the power method applied to the inverse for the smallest eigenvalue, and apply Hotelling's deflation twice to find the second and third eigenvalues/eigenvectors."
   ]
  },
  {
   "cell_type": "code",
   "execution_count": 79,
   "metadata": {},
   "outputs": [],
   "source": [
    "A = np.array([[2.65287619, 1.58615494, 1.47170961, 1.40586081],\n",
    "       [1.58615494, 1.17577323, 0.72084593, 0.79382861],\n",
    "       [1.47170961, 0.72084593, 1.18111969, 0.6654689 ],\n",
    "       [1.40586081, 0.79382861, 0.6654689 , 0.84502394]])"
   ]
  },
  {
   "cell_type": "code",
   "execution_count": 80,
   "metadata": {},
   "outputs": [],
   "source": [
    "def MaxEigenvalue(A, err):\n",
    "    (m,n) = A.shape\n",
    "    if(m != n):\n",
    "        print(\"matrix must be square\")\n",
    "        return\n",
    "    \n",
    "    #create a random initial vector\n",
    "    x = np.random.rand(m)\n",
    "    \n",
    "    lam = 0.1\n",
    "    lamprev = 1\n",
    "    while np.abs(1-lam/lamprev) > err:\n",
    "        Ax = A@x\n",
    "        lamprev = lam\n",
    "        lam = la.norm(Ax,2)/la.norm(x,2)\n",
    "        x = Ax\n",
    "        \n",
    "    x = x/la.norm(x)\n",
    "    return (lam,x)"
   ]
  },
  {
   "cell_type": "code",
   "execution_count": 81,
   "metadata": {},
   "outputs": [
    {
     "name": "stdout",
     "output_type": "stream",
     "text": [
      "max eigenvalue = 5.172971199844757\n",
      "corresponding eigenvector = [0.71538265 0.43087578 0.40381884 0.37350243]\n"
     ]
    }
   ],
   "source": [
    "print(\"max eigenvalue =\", MaxEigenvalue(A, 1e-14)[0])\n",
    "print(\"corresponding eigenvector =\", MaxEigenvalue(A, 1e-14)[1])\n",
    "eig1 = MaxEigenvalue(A, 1e-14)"
   ]
  },
  {
   "cell_type": "code",
   "execution_count": 87,
   "metadata": {},
   "outputs": [
    {
     "name": "stdout",
     "output_type": "stream",
     "text": [
      "min eigenvalue = 0.0015297971635957477\n",
      "corresponding eigenvector = [-0.68301529  0.34802856  0.328043    0.55204531]\n"
     ]
    }
   ],
   "source": [
    "print(\"min eigenvalue =\", 1/MaxEigenvalue(la.inv(A), 1e-14)[0])\n",
    "print(\"corresponding eigenvector =\", MaxEigenvalue(la.inv(A), 1e-14)[1])\n",
    "eig2 = (1/MaxEigenvalue(la.inv(A), 1e-14)[0],MaxEigenvalue(la.inv(A), 1e-14)[1])"
   ]
  },
  {
   "cell_type": "code",
   "execution_count": 88,
   "metadata": {},
   "outputs": [
    {
     "name": "stdout",
     "output_type": "stream",
     "text": [
      "second eigenvalue = 0.4816692703106537\n",
      "corresponding eigenvector = [-0.04054567 -0.52331842  0.82477029 -0.21035172]\n"
     ]
    }
   ],
   "source": [
    "l1 = MaxEigenvalue(A, 1e-14)[0]\n",
    "e1 = MaxEigenvalue(A, 1e-14)[1]\n",
    "B = A - l1*np.outer(e1, e1)\n",
    "print(\"second eigenvalue =\", MaxEigenvalue(B, 1e-14)[0])\n",
    "print(\"corresponding eigenvector =\", MaxEigenvalue(B, 1e-14)[1])\n",
    "eig4 = MaxEigenvalue(B, 1e-14)"
   ]
  },
  {
   "cell_type": "code",
   "execution_count": 89,
   "metadata": {},
   "outputs": [
    {
     "name": "stdout",
     "output_type": "stream",
     "text": [
      "third eigenvalue = 0.19862278268099323\n",
      "corresponding eigenvector = [ 0.14168212 -0.64758015 -0.22152218  0.71518812]\n"
     ]
    }
   ],
   "source": [
    "l2 = MaxEigenvalue(B, 1e-14)[0]\n",
    "e2 = MaxEigenvalue(B, 1e-14)[1]\n",
    "B2 = B - l2*np.outer(e2, e2)\n",
    "print(\"third eigenvalue =\", MaxEigenvalue(B2, 1e-14)[0])\n",
    "print(\"corresponding eigenvector =\", MaxEigenvalue(B2, 1e-14)[1])\n",
    "eig3 = MaxEigenvalue(B2, 1e-14)"
   ]
  },
  {
   "cell_type": "markdown",
   "metadata": {},
   "source": [
    "Check your answers against Numpy's results from `la.eig(A)`"
   ]
  },
  {
   "cell_type": "code",
   "execution_count": 90,
   "metadata": {},
   "outputs": [
    {
     "data": {
      "text/plain": [
       "(array([5.17297120e+00, 1.52979716e-03, 1.98622783e-01, 4.81669270e-01]),\n",
       " array([[ 0.71538265,  0.68301529,  0.14168212, -0.04054567],\n",
       "        [ 0.43087578, -0.34802856, -0.64758011, -0.52331842],\n",
       "        [ 0.40381884, -0.328043  , -0.22152224,  0.82477029],\n",
       "        [ 0.37350243, -0.55204531,  0.71518814, -0.21035171]]))"
      ]
     },
     "execution_count": 90,
     "metadata": {},
     "output_type": "execute_result"
    }
   ],
   "source": [
    "la.eig(A)\n",
    "#our values for lamda and x are similiar to the values gotten from using la.eig(A)"
   ]
  },
  {
   "cell_type": "code",
   "execution_count": 91,
   "metadata": {},
   "outputs": [
    {
     "data": {
      "text/plain": [
       "array([-7.88191734e-11, -1.01669828e-09,  1.60263891e-09, -4.08892031e-10])"
      ]
     },
     "execution_count": 91,
     "metadata": {},
     "output_type": "execute_result"
    }
   ],
   "source": [
    "#we will now write a code that tests the difference between our values and the values from la.eig(A) in lam*x\n",
    "#if the results are small it shows that our values for lamda and x are close to the values gotten from using la.eig(A)\n",
    "def eigtest(A):\n",
    "    l = len(la.eig(A)[0])\n",
    "    evals = la.eig(A)[0]\n",
    "    evecs = la.eig(A)[1]\n",
    "    \n",
    "    a = 0\n",
    "    b = np.array([eig1,eig2,eig3,eig4])\n",
    "    \n",
    "    \n",
    "    lam = evals[a]\n",
    "    x = evecs[:,a]\n",
    "    \n",
    "    lam2 = b[a,0]\n",
    "    x2 = b[a,1]\n",
    "    while a < l:\n",
    "        return lam2*x2 - lam*x\n",
    "        a += 1\n",
    "    \n",
    "eigtest(A)"
   ]
  },
  {
   "cell_type": "markdown",
   "metadata": {},
   "source": [
    "Commit your notebook to git and push it to GitHub. Upload your completed assignment to BrightSpace."
   ]
  }
 ],
 "metadata": {
  "kernelspec": {
   "display_name": "Python 3",
   "language": "python",
   "name": "python3"
  },
  "language_info": {
   "codemirror_mode": {
    "name": "ipython",
    "version": 3
   },
   "file_extension": ".py",
   "mimetype": "text/x-python",
   "name": "python",
   "nbconvert_exporter": "python",
   "pygments_lexer": "ipython3",
   "version": "3.8.3"
  }
 },
 "nbformat": 4,
 "nbformat_minor": 2
}
